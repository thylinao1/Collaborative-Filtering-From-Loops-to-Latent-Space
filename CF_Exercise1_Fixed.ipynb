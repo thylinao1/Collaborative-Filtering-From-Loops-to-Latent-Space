{
 "cells": [
  {
   "cell_type": "markdown",
   "id": "dce018c6",
   "metadata": {},
   "source": [
    "# Collaborative Filtering (MovieLens small)"
   ]
  },
  {
   "cell_type": "code",
   "execution_count": null,
   "id": "af1a4ab7",
   "metadata": {},
   "outputs": [],
   "source": [
    "import numpy as np\n",
    "from recsys_utils import *  # provided with the assignment\n",
    "\n",
    "# Load precomputed parameters and ratings (small set)\n",
    "X, W, b, num_movies, num_features, num_users = load_precalc_params_small()\n",
    "Y, R = load_ratings_small()\n",
    "\n",
    "print(\"Y\", Y.shape, \"R\", R.shape)\n",
    "print(\"X\", X.shape, \"W\", W.shape, \"b\", b.shape)\n"
   ]
  },
  {
   "cell_type": "markdown",
   "id": "a9cfa042",
   "metadata": {},
   "source": [
    "## cost function (loops) + regularization\n",
    "\n",
    "This is the straightforward loop version. I’m only counting entries where `R[i,j] == 1`.\n",
    "Regularization is added on `X` and `W`."
   ]
  },
  {
   "cell_type": "code",
   "execution_count": null,
   "id": "9e722c00",
   "metadata": {},
   "outputs": [],
   "source": [
    "def cofi_cost_func(X, W, b, Y, R, lambda_):\n",
    "    \"\"\"\n",
    "    Returns the cost for the content-based filtering\n",
    "    Args:\n",
    "      X (ndarray (num_movies,num_features)): matrix of item features\n",
    "      W (ndarray (num_users,num_features)) : matrix of user parameters\n",
    "      b (ndarray (1, num_users)            : vector of user parameters\n",
    "      Y (ndarray (num_movies,num_users)    : matrix of user ratings of movies\n",
    "      R (ndarray (num_movies,num_users)    : matrix, where R(i, j) = 1 if the i-th movies was rated by the j-th user\n",
    "      lambda_ (float): regularization parameter\n",
    "    Returns:\n",
    "      J (float) : Cost\n",
    "    \"\"\"\n",
    "    nm, nu = Y.shape\n",
    "    J = 0\n",
    "    n = W.shape[1]\n",
    "    # START CODE HERE\n",
    "    W1 = np.transpose(W)\n",
    "    for j in range(nu):\n",
    "        w = W[j,:]\n",
    "        b_j = b[0,j]\n",
    "        for i in range(nm):\n",
    "            x = X[i,:]\n",
    "            y = Y[i,j]\n",
    "            r = R[i,j]\n",
    "            J += np.square(r * (np.dot(w,x) + b_j - y ))\n",
    "\n",
    "    J = J/2\n",
    "    lambda_w = 0\n",
    "    for j in range(nu):\n",
    "        for k in range(n):\n",
    "            lambda_w += W[j,k]**2\n",
    "    lambda_x = 0\n",
    "    for j in range(nm):\n",
    "        for k in range(n):\n",
    "            lambda_x += X[j,k]**2\n",
    "\n",
    "    reg = (lambda_*(lambda_w + lambda_x))/2\n",
    "    J = J + reg\n",
    "    # END CODE HERE\n",
    "    return J\n"
   ]
  },
  {
   "cell_type": "code",
   "execution_count": null,
   "id": "9a425f7e",
   "metadata": {},
   "outputs": [],
   "source": [
    "lambda_ = 1.0\n",
    "J_loop = cofi_cost_func(X, W, b, Y, R, lambda_)\n",
    "print(\"Cost (loops):\", float(J_loop))\n"
   ]
  },
  {
   "cell_type": "markdown",
   "id": "b6eb0371",
   "metadata": {},
   "source": [
    "## Vectorized cost function (same result, no loops)\n",
    "\n",
    "Same signature and behavior; computes the same cost using matrix ops."
   ]
  },
  {
   "cell_type": "code",
   "execution_count": null,
   "id": "a2c2d921",
   "metadata": {},
   "outputs": [],
   "source": [
    "def cofi_cost_func_vec(X, W, b, Y, R, lambda_):\n",
    "    \"\"\"Vectorized version of cofi_cost_func.\"\"\"\n",
    "    pred = X @ W.T          # (num_movies × num_users)\n",
    "    pred = pred + b         # b is (1, num_users); broadcasts over rows\n",
    "    err  = (pred - Y) * R\n",
    "    J = 0.5 * np.sum(err * err)\n",
    "    J += 0.5 * lambda_ * (np.sum(W * W) + np.sum(X * X))\n",
    "    return J\n"
   ]
  },
  {
   "cell_type": "code",
   "execution_count": null,
   "id": "c4b3e106",
   "metadata": {},
   "outputs": [],
   "source": [
    "J_vec = cofi_cost_func_vec(X, W, b, Y, R, lambda_)\n",
    "print(\"Cost (vectorized):\", float(J_vec))\n",
    "print(\"abs diff:\", abs(float(J_vec) - float(J_loop)))\n"
   ]
  },
  {
   "cell_type": "markdown",
   "id": "a2ec6058",
   "metadata": {},
   "source": [
    "## Why this is cool (my take)\n",
    "\n",
    "The model doesn’t know genres or tags, and it doesn’t know which axes matter. When we learn `X` and `W`, the model effectively **creates the axes** that best explain ratings. Those latent dimensions capture taste factors without us naming them, which makes the approach flexible beyond movies."
   ]
  }
 ],
 "metadata": {
  "kernelspec": {
   "display_name": "Python 3",
   "language": "python",
   "name": "python3"
  },
  "language_info": {
   "codemirror_mode": {
    "name": "ipython",
    "version": 3
   },
   "file_extension": ".py",
   "mimetype": "text/x-python",
   "name": "python",
   "nbconvert_exporter": "python",
   "pygments_lexer": "ipython3",
   "version": "3.x"
  }
 },
 "nbformat": 4,
 "nbformat_minor": 5
}
